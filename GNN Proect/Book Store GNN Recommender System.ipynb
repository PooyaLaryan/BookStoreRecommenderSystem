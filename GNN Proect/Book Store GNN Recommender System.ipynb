{
 "cells": [
  {
   "cell_type": "code",
   "execution_count": 59,
   "id": "cd665cd7",
   "metadata": {},
   "outputs": [],
   "source": [
    "from sentence_transformers import SentenceTransformer\n",
    "import torch\n",
    "import numpy as np\n",
    "import pandas as pd\n",
    "from sklearn.preprocessing import MultiLabelBinarizer\n",
    "from torch import Tensor\n",
    "import torch_geometric.transforms as T\n",
    "from torch_geometric.data import HeteroData\n",
    "\n",
    "from torch_geometric.nn import SAGEConv, to_hetero"
   ]
  },
  {
   "cell_type": "code",
   "execution_count": 60,
   "id": "6b1cf580",
   "metadata": {},
   "outputs": [],
   "source": [
    "customer_path = 'dataset/customer.csv'\n",
    "sales_path = 'dataset/sales.csv'\n",
    "goods_path = 'dataset/goods.csv'\n",
    "category_path = 'dataset/x_tree.csv'\n",
    "publisher_path = 'dataset/x_tag.csv'\n",
    "\n",
    "customer_df = pd.read_csv(customer_path)\n",
    "sales_df = pd.read_csv(sales_path)\n",
    "goods_df = pd.read_csv(goods_path)\n",
    "category_df = pd.read_csv(category_path)\n",
    "publisher_df = pd.read_csv(publisher_path)"
   ]
  },
  {
   "cell_type": "markdown",
   "id": "1a5cbe6e",
   "metadata": {},
   "source": [
    "# Create Book Feature"
   ]
  },
  {
   "cell_type": "code",
   "execution_count": 61,
   "id": "f480c714",
   "metadata": {},
   "outputs": [],
   "source": [
    "catgory_col = 'catgory'\n",
    "good_id_col = 'good_id'\n",
    "brand_col = 'brand'\n",
    "factorize_brand_col = 'f_brand'\n",
    "tags_col = 'tag'\n",
    "\n",
    "factorize_gender_col = 'f_gender'\n",
    "customer_id_col = 'customer_id'\n",
    "\n",
    "factorize_customer_id = 'f_customer_id'\n",
    "factorize_good_id = 'f_good_id'\n",
    "\n",
    "good = 'good'\n",
    "customer = 'customer'\n",
    "buy = 'buy'\n",
    "rev_buy = 'rev_buy'"
   ]
  },
  {
   "cell_type": "markdown",
   "id": "3ce24f87",
   "metadata": {},
   "source": [
    "### Category Feature"
   ]
  },
  {
   "cell_type": "code",
   "execution_count": 62,
   "id": "e50b36ad",
   "metadata": {},
   "outputs": [],
   "source": [
    "mlb = MultiLabelBinarizer()\n",
    "category_template = goods_df[[good_id_col, catgory_col]]\n",
    "category_split = category_template.catgory \\\n",
    "    .str.split('|') \\\n",
    "    .apply(lambda x: list(map(int, x)) if isinstance(x, list) else []).tolist()\n",
    "\n",
    "catgory_encoded = pd.DataFrame(mlb.fit_transform(category_split), columns=mlb.classes_, index=goods_df.index)\n",
    "category_feature = pd.concat([goods_df['good_id'], catgory_encoded], axis=1)"
   ]
  },
  {
   "cell_type": "markdown",
   "id": "ea967383",
   "metadata": {},
   "source": [
    "### Author Feature"
   ]
  },
  {
   "cell_type": "code",
   "execution_count": 63,
   "id": "88c072db",
   "metadata": {},
   "outputs": [],
   "source": [
    "auther_feature = goods_df[['good_id','author']]\n",
    "auther_feature = auther_feature.assign(author=auther_feature['author'].str.split('|').str[0])\n",
    "author_counts = auther_feature['author'].value_counts()\n",
    "index_of_author_that_have_more_then_one_book = author_counts[author_counts > 1].index\n",
    "auther_feature.loc[~auther_feature['author'].isin(index_of_author_that_have_more_then_one_book), 'author'] = 0\n",
    "mask = auther_feature['author'] == 0\n",
    "auther_feature.loc[~mask, 'author'] = pd.factorize(auther_feature.loc[~mask, 'author'])[0]+1\n",
    "auther_feature.author = auther_feature.author.astype(int)"
   ]
  },
  {
   "cell_type": "markdown",
   "id": "7475fd71",
   "metadata": {},
   "source": [
    "### Brand Feature"
   ]
  },
  {
   "cell_type": "code",
   "execution_count": 64,
   "id": "2213bef6",
   "metadata": {},
   "outputs": [
    {
     "name": "stderr",
     "output_type": "stream",
     "text": [
      "C:\\Users\\14014260\\AppData\\Local\\Temp\\ipykernel_35216\\3827921337.py:2: SettingWithCopyWarning: \n",
      "A value is trying to be set on a copy of a slice from a DataFrame.\n",
      "Try using .loc[row_indexer,col_indexer] = value instead\n",
      "\n",
      "See the caveats in the documentation: https://pandas.pydata.org/pandas-docs/stable/user_guide/indexing.html#returning-a-view-versus-a-copy\n",
      "  brands_template[factorize_brand_col] = pd.factorize(brands_template.brand)[0]\n"
     ]
    }
   ],
   "source": [
    "brands_template = goods_df[[good_id_col, brand_col]]\n",
    "brands_template[factorize_brand_col] = pd.factorize(brands_template.brand)[0]\n",
    "brands_feature = brands_template[[good_id_col, factorize_brand_col]]"
   ]
  },
  {
   "cell_type": "markdown",
   "id": "33e07e7c",
   "metadata": {},
   "source": [
    "### Tags Feature"
   ]
  },
  {
   "cell_type": "code",
   "execution_count": 65,
   "id": "5e1852d6",
   "metadata": {},
   "outputs": [],
   "source": [
    "tags_template = goods_df[[good_id_col, tags_col]]\n",
    "tags_split = tags_template[tags_col].str.split('|') \\\n",
    "    .apply(lambda x: list(map(int, x)) if isinstance(x, list) else []).tolist()\n",
    "\n",
    "tags_encoded = pd.DataFrame(mlb.fit_transform(tags_split), columns=mlb.classes_, index=goods_df.index)\n",
    "tags_feature = pd.concat([goods_df['good_id'], tags_encoded], axis=1)"
   ]
  },
  {
   "cell_type": "markdown",
   "id": "9aeef5d7",
   "metadata": {},
   "source": [
    "### Concatinate All Feature"
   ]
  },
  {
   "cell_type": "code",
   "execution_count": 66,
   "id": "cc83a450",
   "metadata": {},
   "outputs": [],
   "source": [
    "good_feature = category_feature.merge(auther_feature, on=good_id_col, how='left')\n",
    "good_feature = good_feature.merge(brands_feature,on=good_id_col, how='left')\n",
    "good_feature = good_feature.merge(tags_feature, on=good_id_col)"
   ]
  },
  {
   "cell_type": "code",
   "execution_count": 67,
   "id": "1cdb13ce",
   "metadata": {},
   "outputs": [
    {
     "data": {
      "text/html": [
       "<div>\n",
       "<style scoped>\n",
       "    .dataframe tbody tr th:only-of-type {\n",
       "        vertical-align: middle;\n",
       "    }\n",
       "\n",
       "    .dataframe tbody tr th {\n",
       "        vertical-align: top;\n",
       "    }\n",
       "\n",
       "    .dataframe thead th {\n",
       "        text-align: right;\n",
       "    }\n",
       "</style>\n",
       "<table border=\"1\" class=\"dataframe\">\n",
       "  <thead>\n",
       "    <tr style=\"text-align: right;\">\n",
       "      <th></th>\n",
       "      <th>good_id</th>\n",
       "      <th>29</th>\n",
       "      <th>31</th>\n",
       "      <th>32</th>\n",
       "      <th>35_x</th>\n",
       "      <th>37</th>\n",
       "      <th>38</th>\n",
       "      <th>40</th>\n",
       "      <th>41</th>\n",
       "      <th>42_x</th>\n",
       "      <th>...</th>\n",
       "      <th>48962</th>\n",
       "      <th>52548</th>\n",
       "      <th>56067</th>\n",
       "      <th>56068</th>\n",
       "      <th>57828</th>\n",
       "      <th>59533</th>\n",
       "      <th>60904</th>\n",
       "      <th>62296</th>\n",
       "      <th>64050</th>\n",
       "      <th>67460</th>\n",
       "    </tr>\n",
       "  </thead>\n",
       "  <tbody>\n",
       "    <tr>\n",
       "      <th>0</th>\n",
       "      <td>162</td>\n",
       "      <td>0</td>\n",
       "      <td>0</td>\n",
       "      <td>0</td>\n",
       "      <td>0</td>\n",
       "      <td>0</td>\n",
       "      <td>0</td>\n",
       "      <td>0</td>\n",
       "      <td>0</td>\n",
       "      <td>0</td>\n",
       "      <td>...</td>\n",
       "      <td>0</td>\n",
       "      <td>0</td>\n",
       "      <td>0</td>\n",
       "      <td>0</td>\n",
       "      <td>0</td>\n",
       "      <td>0</td>\n",
       "      <td>0</td>\n",
       "      <td>0</td>\n",
       "      <td>0</td>\n",
       "      <td>0</td>\n",
       "    </tr>\n",
       "    <tr>\n",
       "      <th>1</th>\n",
       "      <td>163</td>\n",
       "      <td>0</td>\n",
       "      <td>0</td>\n",
       "      <td>0</td>\n",
       "      <td>0</td>\n",
       "      <td>0</td>\n",
       "      <td>0</td>\n",
       "      <td>0</td>\n",
       "      <td>0</td>\n",
       "      <td>0</td>\n",
       "      <td>...</td>\n",
       "      <td>0</td>\n",
       "      <td>0</td>\n",
       "      <td>0</td>\n",
       "      <td>0</td>\n",
       "      <td>0</td>\n",
       "      <td>0</td>\n",
       "      <td>0</td>\n",
       "      <td>0</td>\n",
       "      <td>0</td>\n",
       "      <td>0</td>\n",
       "    </tr>\n",
       "    <tr>\n",
       "      <th>2</th>\n",
       "      <td>165</td>\n",
       "      <td>0</td>\n",
       "      <td>0</td>\n",
       "      <td>0</td>\n",
       "      <td>0</td>\n",
       "      <td>0</td>\n",
       "      <td>0</td>\n",
       "      <td>0</td>\n",
       "      <td>0</td>\n",
       "      <td>0</td>\n",
       "      <td>...</td>\n",
       "      <td>0</td>\n",
       "      <td>0</td>\n",
       "      <td>0</td>\n",
       "      <td>0</td>\n",
       "      <td>0</td>\n",
       "      <td>0</td>\n",
       "      <td>0</td>\n",
       "      <td>0</td>\n",
       "      <td>0</td>\n",
       "      <td>0</td>\n",
       "    </tr>\n",
       "    <tr>\n",
       "      <th>3</th>\n",
       "      <td>166</td>\n",
       "      <td>0</td>\n",
       "      <td>0</td>\n",
       "      <td>0</td>\n",
       "      <td>0</td>\n",
       "      <td>0</td>\n",
       "      <td>0</td>\n",
       "      <td>0</td>\n",
       "      <td>0</td>\n",
       "      <td>0</td>\n",
       "      <td>...</td>\n",
       "      <td>0</td>\n",
       "      <td>0</td>\n",
       "      <td>0</td>\n",
       "      <td>0</td>\n",
       "      <td>0</td>\n",
       "      <td>0</td>\n",
       "      <td>0</td>\n",
       "      <td>0</td>\n",
       "      <td>0</td>\n",
       "      <td>0</td>\n",
       "    </tr>\n",
       "    <tr>\n",
       "      <th>4</th>\n",
       "      <td>167</td>\n",
       "      <td>0</td>\n",
       "      <td>0</td>\n",
       "      <td>0</td>\n",
       "      <td>0</td>\n",
       "      <td>0</td>\n",
       "      <td>0</td>\n",
       "      <td>0</td>\n",
       "      <td>0</td>\n",
       "      <td>0</td>\n",
       "      <td>...</td>\n",
       "      <td>0</td>\n",
       "      <td>0</td>\n",
       "      <td>0</td>\n",
       "      <td>0</td>\n",
       "      <td>0</td>\n",
       "      <td>0</td>\n",
       "      <td>0</td>\n",
       "      <td>0</td>\n",
       "      <td>0</td>\n",
       "      <td>0</td>\n",
       "    </tr>\n",
       "  </tbody>\n",
       "</table>\n",
       "<p>5 rows × 1834 columns</p>\n",
       "</div>"
      ],
      "text/plain": [
       "   good_id  29  31  32  35_x  37  38  40  41  42_x  ...  48962  52548  56067  \\\n",
       "0      162   0   0   0     0   0   0   0   0     0  ...      0      0      0   \n",
       "1      163   0   0   0     0   0   0   0   0     0  ...      0      0      0   \n",
       "2      165   0   0   0     0   0   0   0   0     0  ...      0      0      0   \n",
       "3      166   0   0   0     0   0   0   0   0     0  ...      0      0      0   \n",
       "4      167   0   0   0     0   0   0   0   0     0  ...      0      0      0   \n",
       "\n",
       "   56068  57828  59533  60904  62296  64050  67460  \n",
       "0      0      0      0      0      0      0      0  \n",
       "1      0      0      0      0      0      0      0  \n",
       "2      0      0      0      0      0      0      0  \n",
       "3      0      0      0      0      0      0      0  \n",
       "4      0      0      0      0      0      0      0  \n",
       "\n",
       "[5 rows x 1834 columns]"
      ]
     },
     "execution_count": 67,
     "metadata": {},
     "output_type": "execute_result"
    }
   ],
   "source": [
    "good_feature.head()"
   ]
  },
  {
   "cell_type": "markdown",
   "id": "f8906f8e",
   "metadata": {},
   "source": [
    "# Create Customer Feature"
   ]
  },
  {
   "cell_type": "code",
   "execution_count": 68,
   "id": "bccb1a10",
   "metadata": {},
   "outputs": [],
   "source": [
    "customer_df[factorize_gender_col] = pd.factorize(customer_df.gender)[0]\n",
    "customer_feature = customer_df[[customer_id_col, factorize_gender_col]]"
   ]
  },
  {
   "cell_type": "code",
   "execution_count": 69,
   "id": "3873eb8e",
   "metadata": {},
   "outputs": [
    {
     "data": {
      "text/html": [
       "<div>\n",
       "<style scoped>\n",
       "    .dataframe tbody tr th:only-of-type {\n",
       "        vertical-align: middle;\n",
       "    }\n",
       "\n",
       "    .dataframe tbody tr th {\n",
       "        vertical-align: top;\n",
       "    }\n",
       "\n",
       "    .dataframe thead th {\n",
       "        text-align: right;\n",
       "    }\n",
       "</style>\n",
       "<table border=\"1\" class=\"dataframe\">\n",
       "  <thead>\n",
       "    <tr style=\"text-align: right;\">\n",
       "      <th></th>\n",
       "      <th>customer_id</th>\n",
       "      <th>f_gender</th>\n",
       "    </tr>\n",
       "  </thead>\n",
       "  <tbody>\n",
       "    <tr>\n",
       "      <th>0</th>\n",
       "      <td>1</td>\n",
       "      <td>0</td>\n",
       "    </tr>\n",
       "    <tr>\n",
       "      <th>1</th>\n",
       "      <td>2</td>\n",
       "      <td>1</td>\n",
       "    </tr>\n",
       "    <tr>\n",
       "      <th>2</th>\n",
       "      <td>3</td>\n",
       "      <td>0</td>\n",
       "    </tr>\n",
       "    <tr>\n",
       "      <th>3</th>\n",
       "      <td>4</td>\n",
       "      <td>0</td>\n",
       "    </tr>\n",
       "    <tr>\n",
       "      <th>4</th>\n",
       "      <td>5</td>\n",
       "      <td>0</td>\n",
       "    </tr>\n",
       "  </tbody>\n",
       "</table>\n",
       "</div>"
      ],
      "text/plain": [
       "   customer_id  f_gender\n",
       "0            1         0\n",
       "1            2         1\n",
       "2            3         0\n",
       "3            4         0\n",
       "4            5         0"
      ]
     },
     "execution_count": 69,
     "metadata": {},
     "output_type": "execute_result"
    }
   ],
   "source": [
    "customer_feature.head()"
   ]
  },
  {
   "cell_type": "markdown",
   "id": "34696e4a",
   "metadata": {},
   "source": [
    "# Sales Operation"
   ]
  },
  {
   "cell_type": "code",
   "execution_count": 70,
   "id": "e08400b5",
   "metadata": {},
   "outputs": [],
   "source": [
    "sales_df.rename(columns={'member_id' : customer_id_col}, inplace=True)"
   ]
  },
  {
   "cell_type": "markdown",
   "id": "a5a9e93c",
   "metadata": {},
   "source": [
    "### Customer Operation"
   ]
  },
  {
   "cell_type": "code",
   "execution_count": 71,
   "id": "2be25e0a",
   "metadata": {},
   "outputs": [
    {
     "name": "stderr",
     "output_type": "stream",
     "text": [
      "C:\\Users\\14014260\\AppData\\Local\\Temp\\ipykernel_35216\\2465826078.py:4: SettingWithCopyWarning: \n",
      "A value is trying to be set on a copy of a slice from a DataFrame.\n",
      "Try using .loc[row_indexer,col_indexer] = value instead\n",
      "\n",
      "See the caveats in the documentation: https://pandas.pydata.org/pandas-docs/stable/user_guide/indexing.html#returning-a-view-versus-a-copy\n",
      "  sales_customer_featuer[factorize_customer_id] = pd.factorize(sales_customer_featuer.customer_id)[0]\n"
     ]
    }
   ],
   "source": [
    "unique_customer_id = sales_df[customer_id_col].drop_duplicates()\n",
    "sales_customer_featuer = customer_feature[customer_feature.customer_id.isin(unique_customer_id)]\n",
    "\n",
    "sales_customer_featuer[factorize_customer_id] = pd.factorize(sales_customer_featuer.customer_id)[0]\n",
    "customerIds_for_merge = sales_customer_featuer[[customer_id_col, factorize_customer_id]]\n",
    "\n",
    "sales_df = sales_df.merge(customerIds_for_merge, on=customer_id_col, how='left')"
   ]
  },
  {
   "cell_type": "markdown",
   "id": "303f3a60",
   "metadata": {},
   "source": [
    "### Good Operation"
   ]
  },
  {
   "cell_type": "code",
   "execution_count": 72,
   "id": "7f173035",
   "metadata": {},
   "outputs": [
    {
     "name": "stderr",
     "output_type": "stream",
     "text": [
      "C:\\Users\\14014260\\AppData\\Local\\Temp\\ipykernel_35216\\714361470.py:4: SettingWithCopyWarning: \n",
      "A value is trying to be set on a copy of a slice from a DataFrame.\n",
      "Try using .loc[row_indexer,col_indexer] = value instead\n",
      "\n",
      "See the caveats in the documentation: https://pandas.pydata.org/pandas-docs/stable/user_guide/indexing.html#returning-a-view-versus-a-copy\n",
      "  sales_good_feature[factorize_good_id] = pd.factorize(sales_good_feature.good_id)[0]\n"
     ]
    }
   ],
   "source": [
    "unique_goods_id = sales_df[good_id_col].drop_duplicates()\n",
    "sales_good_feature = good_feature[good_feature.good_id.isin(unique_goods_id)]\n",
    "\n",
    "sales_good_feature[factorize_good_id] = pd.factorize(sales_good_feature.good_id)[0]\n",
    "goodIds_for_merge = sales_good_feature[[good_id_col, factorize_good_id]]\n",
    "\n",
    "sales_df = sales_df.merge(goodIds_for_merge , on=good_id_col, how='left')\n",
    "\n",
    "sales_df.fillna(value={factorize_good_id : 0}, inplace=True)"
   ]
  },
  {
   "cell_type": "code",
   "execution_count": 73,
   "id": "0dd0f3b7",
   "metadata": {},
   "outputs": [
    {
     "data": {
      "text/html": [
       "<div>\n",
       "<style scoped>\n",
       "    .dataframe tbody tr th:only-of-type {\n",
       "        vertical-align: middle;\n",
       "    }\n",
       "\n",
       "    .dataframe tbody tr th {\n",
       "        vertical-align: top;\n",
       "    }\n",
       "\n",
       "    .dataframe thead th {\n",
       "        text-align: right;\n",
       "    }\n",
       "</style>\n",
       "<table border=\"1\" class=\"dataframe\">\n",
       "  <thead>\n",
       "    <tr style=\"text-align: right;\">\n",
       "      <th></th>\n",
       "      <th>invoice_id</th>\n",
       "      <th>register_date</th>\n",
       "      <th>customer_id</th>\n",
       "      <th>province_id</th>\n",
       "      <th>city_id</th>\n",
       "      <th>good_id</th>\n",
       "      <th>f_customer_id</th>\n",
       "      <th>f_good_id</th>\n",
       "    </tr>\n",
       "  </thead>\n",
       "  <tbody>\n",
       "    <tr>\n",
       "      <th>0</th>\n",
       "      <td>2</td>\n",
       "      <td>2014-05-11 08:31:37</td>\n",
       "      <td>5</td>\n",
       "      <td>4.0</td>\n",
       "      <td>72.0</td>\n",
       "      <td>15347</td>\n",
       "      <td>1.0</td>\n",
       "      <td>5255.0</td>\n",
       "    </tr>\n",
       "    <tr>\n",
       "      <th>1</th>\n",
       "      <td>5</td>\n",
       "      <td>2014-05-12 15:16:06</td>\n",
       "      <td>8</td>\n",
       "      <td>8.0</td>\n",
       "      <td>110.0</td>\n",
       "      <td>2833</td>\n",
       "      <td>3.0</td>\n",
       "      <td>1453.0</td>\n",
       "    </tr>\n",
       "    <tr>\n",
       "      <th>2</th>\n",
       "      <td>5</td>\n",
       "      <td>2014-05-12 15:16:06</td>\n",
       "      <td>8</td>\n",
       "      <td>8.0</td>\n",
       "      <td>110.0</td>\n",
       "      <td>8714</td>\n",
       "      <td>3.0</td>\n",
       "      <td>3200.0</td>\n",
       "    </tr>\n",
       "    <tr>\n",
       "      <th>3</th>\n",
       "      <td>7</td>\n",
       "      <td>2014-05-12 22:23:19</td>\n",
       "      <td>9</td>\n",
       "      <td>27.0</td>\n",
       "      <td>337.0</td>\n",
       "      <td>15672</td>\n",
       "      <td>4.0</td>\n",
       "      <td>0.0</td>\n",
       "    </tr>\n",
       "    <tr>\n",
       "      <th>4</th>\n",
       "      <td>11</td>\n",
       "      <td>2014-05-16 11:55:43</td>\n",
       "      <td>12</td>\n",
       "      <td>8.0</td>\n",
       "      <td>121.0</td>\n",
       "      <td>15001</td>\n",
       "      <td>5.0</td>\n",
       "      <td>5136.0</td>\n",
       "    </tr>\n",
       "    <tr>\n",
       "      <th>...</th>\n",
       "      <td>...</td>\n",
       "      <td>...</td>\n",
       "      <td>...</td>\n",
       "      <td>...</td>\n",
       "      <td>...</td>\n",
       "      <td>...</td>\n",
       "      <td>...</td>\n",
       "      <td>...</td>\n",
       "    </tr>\n",
       "    <tr>\n",
       "      <th>525083</th>\n",
       "      <td>263306</td>\n",
       "      <td>2023-06-14 17:06:29</td>\n",
       "      <td>205809</td>\n",
       "      <td>4.0</td>\n",
       "      <td>977.0</td>\n",
       "      <td>35191</td>\n",
       "      <td>95692.0</td>\n",
       "      <td>13615.0</td>\n",
       "    </tr>\n",
       "    <tr>\n",
       "      <th>525084</th>\n",
       "      <td>263306</td>\n",
       "      <td>2023-06-14 17:06:29</td>\n",
       "      <td>205809</td>\n",
       "      <td>4.0</td>\n",
       "      <td>977.0</td>\n",
       "      <td>37009</td>\n",
       "      <td>95692.0</td>\n",
       "      <td>14570.0</td>\n",
       "    </tr>\n",
       "    <tr>\n",
       "      <th>525085</th>\n",
       "      <td>263306</td>\n",
       "      <td>2023-06-14 17:06:29</td>\n",
       "      <td>205809</td>\n",
       "      <td>4.0</td>\n",
       "      <td>977.0</td>\n",
       "      <td>77359</td>\n",
       "      <td>95692.0</td>\n",
       "      <td>34477.0</td>\n",
       "    </tr>\n",
       "    <tr>\n",
       "      <th>525086</th>\n",
       "      <td>263307</td>\n",
       "      <td>2023-06-14 17:21:18</td>\n",
       "      <td>183076</td>\n",
       "      <td>10.0</td>\n",
       "      <td>134.0</td>\n",
       "      <td>26552</td>\n",
       "      <td>85153.0</td>\n",
       "      <td>9833.0</td>\n",
       "    </tr>\n",
       "    <tr>\n",
       "      <th>525087</th>\n",
       "      <td>263308</td>\n",
       "      <td>2023-06-14 17:51:36</td>\n",
       "      <td>205815</td>\n",
       "      <td>17.0</td>\n",
       "      <td>221.0</td>\n",
       "      <td>88648</td>\n",
       "      <td>95693.0</td>\n",
       "      <td>38705.0</td>\n",
       "    </tr>\n",
       "  </tbody>\n",
       "</table>\n",
       "<p>525088 rows × 8 columns</p>\n",
       "</div>"
      ],
      "text/plain": [
       "        invoice_id        register_date  customer_id  province_id  city_id  \\\n",
       "0                2  2014-05-11 08:31:37            5          4.0     72.0   \n",
       "1                5  2014-05-12 15:16:06            8          8.0    110.0   \n",
       "2                5  2014-05-12 15:16:06            8          8.0    110.0   \n",
       "3                7  2014-05-12 22:23:19            9         27.0    337.0   \n",
       "4               11  2014-05-16 11:55:43           12          8.0    121.0   \n",
       "...            ...                  ...          ...          ...      ...   \n",
       "525083      263306  2023-06-14 17:06:29       205809          4.0    977.0   \n",
       "525084      263306  2023-06-14 17:06:29       205809          4.0    977.0   \n",
       "525085      263306  2023-06-14 17:06:29       205809          4.0    977.0   \n",
       "525086      263307  2023-06-14 17:21:18       183076         10.0    134.0   \n",
       "525087      263308  2023-06-14 17:51:36       205815         17.0    221.0   \n",
       "\n",
       "        good_id  f_customer_id  f_good_id  \n",
       "0         15347            1.0     5255.0  \n",
       "1          2833            3.0     1453.0  \n",
       "2          8714            3.0     3200.0  \n",
       "3         15672            4.0        0.0  \n",
       "4         15001            5.0     5136.0  \n",
       "...         ...            ...        ...  \n",
       "525083    35191        95692.0    13615.0  \n",
       "525084    37009        95692.0    14570.0  \n",
       "525085    77359        95692.0    34477.0  \n",
       "525086    26552        85153.0     9833.0  \n",
       "525087    88648        95693.0    38705.0  \n",
       "\n",
       "[525088 rows x 8 columns]"
      ]
     },
     "execution_count": 73,
     "metadata": {},
     "output_type": "execute_result"
    }
   ],
   "source": [
    "sales_df"
   ]
  },
  {
   "cell_type": "code",
   "execution_count": 74,
   "id": "d4aef34a",
   "metadata": {},
   "outputs": [
    {
     "data": {
      "text/html": [
       "<div>\n",
       "<style scoped>\n",
       "    .dataframe tbody tr th:only-of-type {\n",
       "        vertical-align: middle;\n",
       "    }\n",
       "\n",
       "    .dataframe tbody tr th {\n",
       "        vertical-align: top;\n",
       "    }\n",
       "\n",
       "    .dataframe thead th {\n",
       "        text-align: right;\n",
       "    }\n",
       "</style>\n",
       "<table border=\"1\" class=\"dataframe\">\n",
       "  <thead>\n",
       "    <tr style=\"text-align: right;\">\n",
       "      <th></th>\n",
       "      <th>f_customer_id</th>\n",
       "      <th>f_good_id</th>\n",
       "    </tr>\n",
       "  </thead>\n",
       "  <tbody>\n",
       "    <tr>\n",
       "      <th>0</th>\n",
       "      <td>1.0</td>\n",
       "      <td>5255.0</td>\n",
       "    </tr>\n",
       "    <tr>\n",
       "      <th>1</th>\n",
       "      <td>3.0</td>\n",
       "      <td>1453.0</td>\n",
       "    </tr>\n",
       "    <tr>\n",
       "      <th>2</th>\n",
       "      <td>3.0</td>\n",
       "      <td>3200.0</td>\n",
       "    </tr>\n",
       "    <tr>\n",
       "      <th>3</th>\n",
       "      <td>4.0</td>\n",
       "      <td>0.0</td>\n",
       "    </tr>\n",
       "    <tr>\n",
       "      <th>4</th>\n",
       "      <td>5.0</td>\n",
       "      <td>5136.0</td>\n",
       "    </tr>\n",
       "    <tr>\n",
       "      <th>...</th>\n",
       "      <td>...</td>\n",
       "      <td>...</td>\n",
       "    </tr>\n",
       "    <tr>\n",
       "      <th>525083</th>\n",
       "      <td>95692.0</td>\n",
       "      <td>13615.0</td>\n",
       "    </tr>\n",
       "    <tr>\n",
       "      <th>525084</th>\n",
       "      <td>95692.0</td>\n",
       "      <td>14570.0</td>\n",
       "    </tr>\n",
       "    <tr>\n",
       "      <th>525085</th>\n",
       "      <td>95692.0</td>\n",
       "      <td>34477.0</td>\n",
       "    </tr>\n",
       "    <tr>\n",
       "      <th>525086</th>\n",
       "      <td>85153.0</td>\n",
       "      <td>9833.0</td>\n",
       "    </tr>\n",
       "    <tr>\n",
       "      <th>525087</th>\n",
       "      <td>95693.0</td>\n",
       "      <td>38705.0</td>\n",
       "    </tr>\n",
       "  </tbody>\n",
       "</table>\n",
       "<p>525088 rows × 2 columns</p>\n",
       "</div>"
      ],
      "text/plain": [
       "        f_customer_id  f_good_id\n",
       "0                 1.0     5255.0\n",
       "1                 3.0     1453.0\n",
       "2                 3.0     3200.0\n",
       "3                 4.0        0.0\n",
       "4                 5.0     5136.0\n",
       "...               ...        ...\n",
       "525083        95692.0    13615.0\n",
       "525084        95692.0    14570.0\n",
       "525085        95692.0    34477.0\n",
       "525086        85153.0     9833.0\n",
       "525087        95693.0    38705.0\n",
       "\n",
       "[525088 rows x 2 columns]"
      ]
     },
     "execution_count": 74,
     "metadata": {},
     "output_type": "execute_result"
    }
   ],
   "source": [
    "adjacency_matrix = sales_df[[factorize_customer_id, factorize_good_id]]\n",
    "adjacency_matrix"
   ]
  },
  {
   "cell_type": "markdown",
   "id": "979db517",
   "metadata": {},
   "source": [
    "# Create HetroData"
   ]
  },
  {
   "cell_type": "code",
   "execution_count": 105,
   "id": "f770cc58",
   "metadata": {},
   "outputs": [],
   "source": [
    "customer_feature_numpy = torch.from_numpy(customer_feature.values).to(torch.int32)\n",
    "good_feature_numpy = torch.from_numpy(good_feature.values).to(torch.int32)\n",
    "\n",
    "buying_customer_id = torch.from_numpy(adjacency_matrix[factorize_customer_id].values).to(torch.int32)\n",
    "buying_good_id = torch.from_numpy(adjacency_matrix[factorize_good_id].values).to(torch.int32)\n",
    "\n",
    "#edge_index = torch.stack([\n",
    "#    torch.tensor(buying_customer_id),\n",
    "#    torch.tensor(buying_good_id)],\n",
    "#    dim=0)\n",
    "\n",
    "edge_index = torch.stack([\n",
    "    buying_customer_id,\n",
    "    buying_good_id],\n",
    "    dim=0)"
   ]
  },
  {
   "cell_type": "code",
   "execution_count": 106,
   "id": "901b57d9",
   "metadata": {},
   "outputs": [
    {
     "data": {
      "text/plain": [
       "tensor([[    1,     3,     3,  ..., 95692, 85153, 95693],\n",
       "        [ 5255,  1453,  3200,  ..., 34477,  9833, 38705]], dtype=torch.int32)"
      ]
     },
     "execution_count": 106,
     "metadata": {},
     "output_type": "execute_result"
    }
   ],
   "source": [
    "edge_index"
   ]
  },
  {
   "cell_type": "code",
   "execution_count": 107,
   "id": "f619bb54",
   "metadata": {},
   "outputs": [
    {
     "data": {
      "text/plain": [
       "tensor([     0,      1,      2,  ..., 204915, 204916, 204917])"
      ]
     },
     "execution_count": 107,
     "metadata": {},
     "output_type": "execute_result"
    }
   ],
   "source": [
    "torch.arange(len(customer_feature_numpy))"
   ]
  },
  {
   "cell_type": "code",
   "execution_count": 108,
   "id": "708f796a",
   "metadata": {},
   "outputs": [
    {
     "data": {
      "text/plain": [
       "tensor([    0,     1,     2,  ..., 57090, 57091, 57092])"
      ]
     },
     "execution_count": 108,
     "metadata": {},
     "output_type": "execute_result"
    }
   ],
   "source": [
    "torch.arange(len(good_feature_numpy))"
   ]
  },
  {
   "cell_type": "code",
   "execution_count": 109,
   "id": "f854a70e",
   "metadata": {},
   "outputs": [],
   "source": [
    "hetro_data = HeteroData()\n",
    "\n",
    "hetro_data[customer].node_id = torch.arange(len(customer_feature_numpy))\n",
    "hetro_data[good].node_id = torch.arange(len(good_feature_numpy))\n",
    "\n",
    "hetro_data[good].x = good_feature_numpy\n",
    "hetro_data[customer].x = customer_feature_numpy\n",
    "hetro_data[customer, buy, good].edge_index = edge_index\n",
    "hetro_data = T.ToUndirected()(hetro_data)\n",
    "\n",
    "del hetro_data[good, rev_buy, customer].edge_label"
   ]
  },
  {
   "cell_type": "code",
   "execution_count": 110,
   "id": "26e3db0f",
   "metadata": {},
   "outputs": [
    {
     "data": {
      "text/plain": [
       "HeteroData(\n",
       "  customer={\n",
       "    node_id=[204918],\n",
       "    x=[204918, 2],\n",
       "  },\n",
       "  good={\n",
       "    node_id=[57093],\n",
       "    x=[57093, 1834],\n",
       "  },\n",
       "  (customer, buy, good)={ edge_index=[2, 525088] },\n",
       "  (good, rev_buy, customer)={ edge_index=[2, 525088] }\n",
       ")"
      ]
     },
     "execution_count": 110,
     "metadata": {},
     "output_type": "execute_result"
    }
   ],
   "source": [
    "hetro_data"
   ]
  },
  {
   "cell_type": "markdown",
   "id": "d254c1d9",
   "metadata": {},
   "source": [
    "# Train Val Test  spliting"
   ]
  },
  {
   "cell_type": "code",
   "execution_count": 111,
   "id": "a02a8163",
   "metadata": {},
   "outputs": [
    {
     "data": {
      "text/plain": [
       "(HeteroData(\n",
       "   customer={\n",
       "     node_id=[204918],\n",
       "     x=[204918, 2],\n",
       "   },\n",
       "   good={\n",
       "     node_id=[57093],\n",
       "     x=[57093, 1834],\n",
       "   },\n",
       "   (customer, buy, good)={\n",
       "     edge_index=[2, 420072],\n",
       "     edge_label=[1260216],\n",
       "     edge_label_index=[2, 1260216],\n",
       "   },\n",
       "   (good, rev_buy, customer)={ edge_index=[2, 420072] }\n",
       " ),\n",
       " HeteroData(\n",
       "   customer={\n",
       "     node_id=[204918],\n",
       "     x=[204918, 2],\n",
       "   },\n",
       "   good={\n",
       "     node_id=[57093],\n",
       "     x=[57093, 1834],\n",
       "   },\n",
       "   (customer, buy, good)={\n",
       "     edge_index=[2, 420072],\n",
       "     edge_label=[157524],\n",
       "     edge_label_index=[2, 157524],\n",
       "   },\n",
       "   (good, rev_buy, customer)={ edge_index=[2, 420072] }\n",
       " ),\n",
       " HeteroData(\n",
       "   customer={\n",
       "     node_id=[204918],\n",
       "     x=[204918, 2],\n",
       "   },\n",
       "   good={\n",
       "     node_id=[57093],\n",
       "     x=[57093, 1834],\n",
       "   },\n",
       "   (customer, buy, good)={\n",
       "     edge_index=[2, 472580],\n",
       "     edge_label=[157524],\n",
       "     edge_label_index=[2, 157524],\n",
       "   },\n",
       "   (good, rev_buy, customer)={ edge_index=[2, 472580] }\n",
       " ))"
      ]
     },
     "execution_count": 111,
     "metadata": {},
     "output_type": "execute_result"
    }
   ],
   "source": [
    "train_data, val_data, test_data = T.RandomLinkSplit(\n",
    "    num_val=0.1,\n",
    "    num_test=0.1,\n",
    "    neg_sampling_ratio=2,\n",
    "    add_negative_train_samples=True,\n",
    "    edge_types=[(customer, buy, good)],\n",
    "    rev_edge_types=[(good, rev_buy, customer)],\n",
    ")(hetro_data)\n",
    "train_data, val_data, test_data"
   ]
  },
  {
   "cell_type": "code",
   "execution_count": 112,
   "id": "6fbcfe17",
   "metadata": {},
   "outputs": [
    {
     "data": {
      "text/plain": [
       "(tensor([1., 1., 1.,  ..., 0., 0., 0.]), torch.Size([1260216]))"
      ]
     },
     "execution_count": 112,
     "metadata": {},
     "output_type": "execute_result"
    }
   ],
   "source": [
    "train_data[customer, buy, good].edge_label ,train_data[customer, buy, good].edge_label.shape"
   ]
  },
  {
   "cell_type": "markdown",
   "id": "1b3422da",
   "metadata": {},
   "source": [
    "# Create Graph Neural Network"
   ]
  },
  {
   "cell_type": "code",
   "execution_count": 113,
   "id": "dc41187f",
   "metadata": {},
   "outputs": [],
   "source": [
    "class GNNEncoder(torch.nn.Module):\n",
    "    def __init__(self, hidden_layer):\n",
    "        super().__init__()\n",
    "        self.conv1 = SAGEConv((-1,-1), hidden_layer)\n",
    "        self.conv2 = SAGEConv((-1,-1), hidden_layer)\n",
    "    \n",
    "    def forward(self, x, edge_index):\n",
    "        x = self.conv1(x, edge_index).relu()\n",
    "        x = self.conv2(x, edge_index)\n",
    "        return x"
   ]
  },
  {
   "cell_type": "code",
   "execution_count": 114,
   "id": "3a0c961f",
   "metadata": {},
   "outputs": [],
   "source": [
    "class Classifier(torch.nn.Module):\n",
    "    \n",
    "    def forward(self, x_good, x_customer, edge_lable_index):\n",
    "        edge_feature_good = x_good[edge_label_index[0]]\n",
    "        edge_feature_customer = x_customer[edge_label_index[1]]\n",
    "        return (edge_feature_good * edge_feature_customer).sum(dim=-1)"
   ]
  },
  {
   "cell_type": "code",
   "execution_count": 115,
   "id": "610cf9a8",
   "metadata": {},
   "outputs": [],
   "source": [
    "class Model(torch.nn.Module):\n",
    "    def __init__(self, hidden_channels):\n",
    "        super().__init__()\n",
    "        #self.good_lin = torch.nn.Linear(20, hidden_channels)\n",
    "        self.customer_emb = torch.nn.Embedding(hetro_data[customer].num_nodes, hidden_channels)\n",
    "        self.good_emb = torch.nn.Embedding(hetro_data[good].num_nodes, hidden_channels)\n",
    "        self.gnn = GNNEncoder(hidden_channels)\n",
    "        self.gnn = to_hetero(self.gnn, metadata=hetro_data.metadata())\n",
    "        self.classifier = Classifier()\n",
    "\n",
    "    def forward(self, data: HeteroData) -> Tensor:\n",
    "        x_dict = {\n",
    "          customer: self.customer_emb(data[customer].node_id),\n",
    "          good: self.good_emb(data[good].node_id),\n",
    "        }\n",
    "\n",
    "        x_dict = self.gnn(x_dict, data.edge_index_dict)\n",
    "\n",
    "        pred = self.classifier(\n",
    "            x_dict[customer],\n",
    "            x_dict[good],\n",
    "            data[customer, buy, good].edge_label_index,\n",
    "        )\n",
    "\n",
    "        return pred"
   ]
  },
  {
   "cell_type": "code",
   "execution_count": 116,
   "id": "f59a5dd5",
   "metadata": {},
   "outputs": [
    {
     "data": {
      "text/plain": [
       "tensor([163,   0,   0,  ...,   0,   0,   0], dtype=torch.int32)"
      ]
     },
     "execution_count": 116,
     "metadata": {},
     "output_type": "execute_result"
    }
   ],
   "source": [
    "train_data[good].x[1]"
   ]
  },
  {
   "cell_type": "code",
   "execution_count": 117,
   "id": "edebb058",
   "metadata": {},
   "outputs": [],
   "source": [
    "device = torch.device('cuda' if torch.cuda.is_available() else 'cpu')"
   ]
  },
  {
   "cell_type": "code",
   "execution_count": 118,
   "id": "3f0c155d",
   "metadata": {},
   "outputs": [
    {
     "data": {
      "text/plain": [
       "Model(\n",
       "  (customer_emb): Embedding(204918, 32)\n",
       "  (good_emb): Embedding(57093, 32)\n",
       "  (gnn): GraphModule(\n",
       "    (conv1): ModuleDict(\n",
       "      (customer__buy__good): SAGEConv((-1, -1), 32, aggr=mean)\n",
       "      (good__rev_buy__customer): SAGEConv((-1, -1), 32, aggr=mean)\n",
       "    )\n",
       "    (conv2): ModuleDict(\n",
       "      (customer__buy__good): SAGEConv((-1, -1), 32, aggr=mean)\n",
       "      (good__rev_buy__customer): SAGEConv((-1, -1), 32, aggr=mean)\n",
       "    )\n",
       "  )\n",
       "  (classifier): Classifier()\n",
       ")"
      ]
     },
     "execution_count": 118,
     "metadata": {},
     "output_type": "execute_result"
    }
   ],
   "source": [
    "model = Model(hidden_channels=32).to(device)\n",
    "model"
   ]
  },
  {
   "cell_type": "markdown",
   "id": "2a60f92d",
   "metadata": {},
   "source": [
    "# Training the Model"
   ]
  },
  {
   "cell_type": "code",
   "execution_count": 119,
   "id": "fa447548",
   "metadata": {},
   "outputs": [
    {
     "ename": "IndexError",
     "evalue": "Encountered an index error. Please ensure that all indices in 'edge_index' point to valid indices in the interval [0, 204917] (got interval [-2147483648, 95692])",
     "output_type": "error",
     "traceback": [
      "\u001b[1;31m---------------------------------------------------------------------------\u001b[0m",
      "\u001b[1;31mIndexError\u001b[0m                                Traceback (most recent call last)",
      "File \u001b[1;32mC:\\ProgramData\\Anaconda3\\lib\\site-packages\\torch_geometric\\nn\\conv\\message_passing.py:266\u001b[0m, in \u001b[0;36mMessagePassing._lift\u001b[1;34m(self, src, edge_index, dim)\u001b[0m\n\u001b[0;32m    265\u001b[0m     index \u001b[38;5;241m=\u001b[39m edge_index[dim]\n\u001b[1;32m--> 266\u001b[0m     \u001b[38;5;28;01mreturn\u001b[39;00m \u001b[43msrc\u001b[49m\u001b[38;5;241;43m.\u001b[39;49m\u001b[43mindex_select\u001b[49m\u001b[43m(\u001b[49m\u001b[38;5;28;43mself\u001b[39;49m\u001b[38;5;241;43m.\u001b[39;49m\u001b[43mnode_dim\u001b[49m\u001b[43m,\u001b[49m\u001b[43m \u001b[49m\u001b[43mindex\u001b[49m\u001b[43m)\u001b[49m\n\u001b[0;32m    267\u001b[0m \u001b[38;5;28;01mexcept\u001b[39;00m (\u001b[38;5;167;01mIndexError\u001b[39;00m, \u001b[38;5;167;01mRuntimeError\u001b[39;00m) \u001b[38;5;28;01mas\u001b[39;00m e:\n",
      "\u001b[1;31mIndexError\u001b[0m: index out of range in self",
      "\nDuring handling of the above exception, another exception occurred:\n",
      "\u001b[1;31mIndexError\u001b[0m                                Traceback (most recent call last)",
      "Cell \u001b[1;32mIn[119], line 28\u001b[0m\n\u001b[0;32m     26\u001b[0m \u001b[38;5;28;01mfor\u001b[39;00m epoch \u001b[38;5;129;01min\u001b[39;00m \u001b[38;5;28mrange\u001b[39m(\u001b[38;5;241m1\u001b[39m, \u001b[38;5;241m100\u001b[39m):\n\u001b[0;32m     27\u001b[0m     train_data \u001b[38;5;241m=\u001b[39m train_data\u001b[38;5;241m.\u001b[39mto(device)\n\u001b[1;32m---> 28\u001b[0m     loss \u001b[38;5;241m=\u001b[39m \u001b[43mtrain\u001b[49m\u001b[43m(\u001b[49m\u001b[43m)\u001b[49m\n\u001b[0;32m     29\u001b[0m     train_rmse \u001b[38;5;241m=\u001b[39m test(train_data)\n\u001b[0;32m     30\u001b[0m     val_rmse \u001b[38;5;241m=\u001b[39m test(val_data)\n",
      "Cell \u001b[1;32mIn[119], line 8\u001b[0m, in \u001b[0;36mtrain\u001b[1;34m()\u001b[0m\n\u001b[0;32m      6\u001b[0m model\u001b[38;5;241m.\u001b[39mtrain()\n\u001b[0;32m      7\u001b[0m optimizer\u001b[38;5;241m.\u001b[39mzero_grad()\n\u001b[1;32m----> 8\u001b[0m pred \u001b[38;5;241m=\u001b[39m \u001b[43mmodel\u001b[49m\u001b[43m(\u001b[49m\u001b[43mtrain_data\u001b[49m\u001b[43m)\u001b[49m\n\u001b[0;32m      9\u001b[0m ground_truth \u001b[38;5;241m=\u001b[39m train_data[customer, buy, good]\u001b[38;5;241m.\u001b[39medge_label\n\u001b[0;32m     10\u001b[0m loss \u001b[38;5;241m=\u001b[39m F\u001b[38;5;241m.\u001b[39mbinary_cross_entropy_with_logits(pred, ground_truth)\n",
      "File \u001b[1;32mC:\\ProgramData\\Anaconda3\\lib\\site-packages\\torch\\nn\\modules\\module.py:1501\u001b[0m, in \u001b[0;36mModule._call_impl\u001b[1;34m(self, *args, **kwargs)\u001b[0m\n\u001b[0;32m   1496\u001b[0m \u001b[38;5;66;03m# If we don't have any hooks, we want to skip the rest of the logic in\u001b[39;00m\n\u001b[0;32m   1497\u001b[0m \u001b[38;5;66;03m# this function, and just call forward.\u001b[39;00m\n\u001b[0;32m   1498\u001b[0m \u001b[38;5;28;01mif\u001b[39;00m \u001b[38;5;129;01mnot\u001b[39;00m (\u001b[38;5;28mself\u001b[39m\u001b[38;5;241m.\u001b[39m_backward_hooks \u001b[38;5;129;01mor\u001b[39;00m \u001b[38;5;28mself\u001b[39m\u001b[38;5;241m.\u001b[39m_backward_pre_hooks \u001b[38;5;129;01mor\u001b[39;00m \u001b[38;5;28mself\u001b[39m\u001b[38;5;241m.\u001b[39m_forward_hooks \u001b[38;5;129;01mor\u001b[39;00m \u001b[38;5;28mself\u001b[39m\u001b[38;5;241m.\u001b[39m_forward_pre_hooks\n\u001b[0;32m   1499\u001b[0m         \u001b[38;5;129;01mor\u001b[39;00m _global_backward_pre_hooks \u001b[38;5;129;01mor\u001b[39;00m _global_backward_hooks\n\u001b[0;32m   1500\u001b[0m         \u001b[38;5;129;01mor\u001b[39;00m _global_forward_hooks \u001b[38;5;129;01mor\u001b[39;00m _global_forward_pre_hooks):\n\u001b[1;32m-> 1501\u001b[0m     \u001b[38;5;28;01mreturn\u001b[39;00m forward_call(\u001b[38;5;241m*\u001b[39margs, \u001b[38;5;241m*\u001b[39m\u001b[38;5;241m*\u001b[39mkwargs)\n\u001b[0;32m   1502\u001b[0m \u001b[38;5;66;03m# Do not call functions when jit is used\u001b[39;00m\n\u001b[0;32m   1503\u001b[0m full_backward_hooks, non_full_backward_hooks \u001b[38;5;241m=\u001b[39m [], []\n",
      "Cell \u001b[1;32mIn[115], line 17\u001b[0m, in \u001b[0;36mModel.forward\u001b[1;34m(self, data)\u001b[0m\n\u001b[0;32m     11\u001b[0m \u001b[38;5;28;01mdef\u001b[39;00m \u001b[38;5;21mforward\u001b[39m(\u001b[38;5;28mself\u001b[39m, data: HeteroData) \u001b[38;5;241m-\u001b[39m\u001b[38;5;241m>\u001b[39m Tensor:\n\u001b[0;32m     12\u001b[0m     x_dict \u001b[38;5;241m=\u001b[39m {\n\u001b[0;32m     13\u001b[0m       customer: \u001b[38;5;28mself\u001b[39m\u001b[38;5;241m.\u001b[39mcustomer_emb(data[customer]\u001b[38;5;241m.\u001b[39mnode_id),\n\u001b[0;32m     14\u001b[0m       good: \u001b[38;5;28mself\u001b[39m\u001b[38;5;241m.\u001b[39mgood_emb(data[good]\u001b[38;5;241m.\u001b[39mnode_id),\n\u001b[0;32m     15\u001b[0m     }\n\u001b[1;32m---> 17\u001b[0m     x_dict \u001b[38;5;241m=\u001b[39m \u001b[38;5;28;43mself\u001b[39;49m\u001b[38;5;241;43m.\u001b[39;49m\u001b[43mgnn\u001b[49m\u001b[43m(\u001b[49m\u001b[43mx_dict\u001b[49m\u001b[43m,\u001b[49m\u001b[43m \u001b[49m\u001b[43mdata\u001b[49m\u001b[38;5;241;43m.\u001b[39;49m\u001b[43medge_index_dict\u001b[49m\u001b[43m)\u001b[49m\n\u001b[0;32m     19\u001b[0m     pred \u001b[38;5;241m=\u001b[39m \u001b[38;5;28mself\u001b[39m\u001b[38;5;241m.\u001b[39mclassifier(\n\u001b[0;32m     20\u001b[0m         x_dict[customer],\n\u001b[0;32m     21\u001b[0m         x_dict[good],\n\u001b[0;32m     22\u001b[0m         data[customer, buy, good]\u001b[38;5;241m.\u001b[39medge_label_index,\n\u001b[0;32m     23\u001b[0m     )\n\u001b[0;32m     25\u001b[0m     \u001b[38;5;28;01mreturn\u001b[39;00m pred\n",
      "File \u001b[1;32mC:\\ProgramData\\Anaconda3\\lib\\site-packages\\torch\\fx\\graph_module.py:662\u001b[0m, in \u001b[0;36mGraphModule.recompile.<locals>.call_wrapped\u001b[1;34m(self, *args, **kwargs)\u001b[0m\n\u001b[0;32m    661\u001b[0m \u001b[38;5;28;01mdef\u001b[39;00m \u001b[38;5;21mcall_wrapped\u001b[39m(\u001b[38;5;28mself\u001b[39m, \u001b[38;5;241m*\u001b[39margs, \u001b[38;5;241m*\u001b[39m\u001b[38;5;241m*\u001b[39mkwargs):\n\u001b[1;32m--> 662\u001b[0m     \u001b[38;5;28;01mreturn\u001b[39;00m \u001b[38;5;28mself\u001b[39m\u001b[38;5;241m.\u001b[39m_wrapped_call(\u001b[38;5;28mself\u001b[39m, \u001b[38;5;241m*\u001b[39margs, \u001b[38;5;241m*\u001b[39m\u001b[38;5;241m*\u001b[39mkwargs)\n",
      "File \u001b[1;32mC:\\ProgramData\\Anaconda3\\lib\\site-packages\\torch\\fx\\graph_module.py:281\u001b[0m, in \u001b[0;36m_WrappedCall.__call__\u001b[1;34m(self, obj, *args, **kwargs)\u001b[0m\n\u001b[0;32m    279\u001b[0m     \u001b[38;5;28;01mraise\u001b[39;00m e\u001b[38;5;241m.\u001b[39mwith_traceback(\u001b[38;5;28;01mNone\u001b[39;00m)\n\u001b[0;32m    280\u001b[0m \u001b[38;5;28;01melse\u001b[39;00m:\n\u001b[1;32m--> 281\u001b[0m     \u001b[38;5;28;01mraise\u001b[39;00m e\n",
      "File \u001b[1;32mC:\\ProgramData\\Anaconda3\\lib\\site-packages\\torch\\fx\\graph_module.py:271\u001b[0m, in \u001b[0;36m_WrappedCall.__call__\u001b[1;34m(self, obj, *args, **kwargs)\u001b[0m\n\u001b[0;32m    269\u001b[0m         \u001b[38;5;28;01mreturn\u001b[39;00m \u001b[38;5;28mself\u001b[39m\u001b[38;5;241m.\u001b[39mcls_call(obj, \u001b[38;5;241m*\u001b[39margs, \u001b[38;5;241m*\u001b[39m\u001b[38;5;241m*\u001b[39mkwargs)\n\u001b[0;32m    270\u001b[0m     \u001b[38;5;28;01melse\u001b[39;00m:\n\u001b[1;32m--> 271\u001b[0m         \u001b[38;5;28;01mreturn\u001b[39;00m \u001b[38;5;28msuper\u001b[39m(\u001b[38;5;28mself\u001b[39m\u001b[38;5;241m.\u001b[39mcls, obj)\u001b[38;5;241m.\u001b[39m\u001b[38;5;21m__call__\u001b[39m(\u001b[38;5;241m*\u001b[39margs, \u001b[38;5;241m*\u001b[39m\u001b[38;5;241m*\u001b[39mkwargs)  \u001b[38;5;66;03m# type: ignore[misc]\u001b[39;00m\n\u001b[0;32m    272\u001b[0m \u001b[38;5;28;01mexcept\u001b[39;00m \u001b[38;5;167;01mException\u001b[39;00m \u001b[38;5;28;01mas\u001b[39;00m e:\n\u001b[0;32m    273\u001b[0m     \u001b[38;5;28;01massert\u001b[39;00m e\u001b[38;5;241m.\u001b[39m__traceback__\n",
      "File \u001b[1;32mC:\\ProgramData\\Anaconda3\\lib\\site-packages\\torch\\nn\\modules\\module.py:1501\u001b[0m, in \u001b[0;36mModule._call_impl\u001b[1;34m(self, *args, **kwargs)\u001b[0m\n\u001b[0;32m   1496\u001b[0m \u001b[38;5;66;03m# If we don't have any hooks, we want to skip the rest of the logic in\u001b[39;00m\n\u001b[0;32m   1497\u001b[0m \u001b[38;5;66;03m# this function, and just call forward.\u001b[39;00m\n\u001b[0;32m   1498\u001b[0m \u001b[38;5;28;01mif\u001b[39;00m \u001b[38;5;129;01mnot\u001b[39;00m (\u001b[38;5;28mself\u001b[39m\u001b[38;5;241m.\u001b[39m_backward_hooks \u001b[38;5;129;01mor\u001b[39;00m \u001b[38;5;28mself\u001b[39m\u001b[38;5;241m.\u001b[39m_backward_pre_hooks \u001b[38;5;129;01mor\u001b[39;00m \u001b[38;5;28mself\u001b[39m\u001b[38;5;241m.\u001b[39m_forward_hooks \u001b[38;5;129;01mor\u001b[39;00m \u001b[38;5;28mself\u001b[39m\u001b[38;5;241m.\u001b[39m_forward_pre_hooks\n\u001b[0;32m   1499\u001b[0m         \u001b[38;5;129;01mor\u001b[39;00m _global_backward_pre_hooks \u001b[38;5;129;01mor\u001b[39;00m _global_backward_hooks\n\u001b[0;32m   1500\u001b[0m         \u001b[38;5;129;01mor\u001b[39;00m _global_forward_hooks \u001b[38;5;129;01mor\u001b[39;00m _global_forward_pre_hooks):\n\u001b[1;32m-> 1501\u001b[0m     \u001b[38;5;28;01mreturn\u001b[39;00m forward_call(\u001b[38;5;241m*\u001b[39margs, \u001b[38;5;241m*\u001b[39m\u001b[38;5;241m*\u001b[39mkwargs)\n\u001b[0;32m   1502\u001b[0m \u001b[38;5;66;03m# Do not call functions when jit is used\u001b[39;00m\n\u001b[0;32m   1503\u001b[0m full_backward_hooks, non_full_backward_hooks \u001b[38;5;241m=\u001b[39m [], []\n",
      "File \u001b[1;32m<eval_with_key>.7:11\u001b[0m, in \u001b[0;36mforward\u001b[1;34m(self, x, edge_index)\u001b[0m\n\u001b[0;32m      9\u001b[0m edge_index__customer__buy__good \u001b[38;5;241m=\u001b[39m edge_index_dict\u001b[38;5;241m.\u001b[39mget((\u001b[38;5;124m'\u001b[39m\u001b[38;5;124mcustomer\u001b[39m\u001b[38;5;124m'\u001b[39m, \u001b[38;5;124m'\u001b[39m\u001b[38;5;124mbuy\u001b[39m\u001b[38;5;124m'\u001b[39m, \u001b[38;5;124m'\u001b[39m\u001b[38;5;124mgood\u001b[39m\u001b[38;5;124m'\u001b[39m), \u001b[38;5;28;01mNone\u001b[39;00m)\n\u001b[0;32m     10\u001b[0m edge_index__good__rev_buy__customer \u001b[38;5;241m=\u001b[39m edge_index_dict\u001b[38;5;241m.\u001b[39mget((\u001b[38;5;124m'\u001b[39m\u001b[38;5;124mgood\u001b[39m\u001b[38;5;124m'\u001b[39m, \u001b[38;5;124m'\u001b[39m\u001b[38;5;124mrev_buy\u001b[39m\u001b[38;5;124m'\u001b[39m, \u001b[38;5;124m'\u001b[39m\u001b[38;5;124mcustomer\u001b[39m\u001b[38;5;124m'\u001b[39m), \u001b[38;5;28;01mNone\u001b[39;00m);  edge_index_dict \u001b[38;5;241m=\u001b[39m \u001b[38;5;28;01mNone\u001b[39;00m\n\u001b[1;32m---> 11\u001b[0m conv1__good \u001b[38;5;241m=\u001b[39m \u001b[38;5;28;43mself\u001b[39;49m\u001b[38;5;241;43m.\u001b[39;49m\u001b[43mconv1\u001b[49m\u001b[38;5;241;43m.\u001b[39;49m\u001b[43mcustomer__buy__good\u001b[49m\u001b[43m(\u001b[49m\u001b[43m(\u001b[49m\u001b[43mx__customer\u001b[49m\u001b[43m,\u001b[49m\u001b[43m \u001b[49m\u001b[43mx__good\u001b[49m\u001b[43m)\u001b[49m\u001b[43m,\u001b[49m\u001b[43m \u001b[49m\u001b[43medge_index__customer__buy__good\u001b[49m\u001b[43m)\u001b[49m\n\u001b[0;32m     12\u001b[0m conv1__customer \u001b[38;5;241m=\u001b[39m \u001b[38;5;28mself\u001b[39m\u001b[38;5;241m.\u001b[39mconv1\u001b[38;5;241m.\u001b[39mgood__rev_buy__customer((x__good, x__customer), edge_index__good__rev_buy__customer);  x__good \u001b[38;5;241m=\u001b[39m x__customer \u001b[38;5;241m=\u001b[39m \u001b[38;5;28;01mNone\u001b[39;00m\n\u001b[0;32m     13\u001b[0m relu__customer \u001b[38;5;241m=\u001b[39m conv1__customer\u001b[38;5;241m.\u001b[39mrelu();  conv1__customer \u001b[38;5;241m=\u001b[39m \u001b[38;5;28;01mNone\u001b[39;00m\n",
      "File \u001b[1;32mC:\\ProgramData\\Anaconda3\\lib\\site-packages\\torch\\nn\\modules\\module.py:1501\u001b[0m, in \u001b[0;36mModule._call_impl\u001b[1;34m(self, *args, **kwargs)\u001b[0m\n\u001b[0;32m   1496\u001b[0m \u001b[38;5;66;03m# If we don't have any hooks, we want to skip the rest of the logic in\u001b[39;00m\n\u001b[0;32m   1497\u001b[0m \u001b[38;5;66;03m# this function, and just call forward.\u001b[39;00m\n\u001b[0;32m   1498\u001b[0m \u001b[38;5;28;01mif\u001b[39;00m \u001b[38;5;129;01mnot\u001b[39;00m (\u001b[38;5;28mself\u001b[39m\u001b[38;5;241m.\u001b[39m_backward_hooks \u001b[38;5;129;01mor\u001b[39;00m \u001b[38;5;28mself\u001b[39m\u001b[38;5;241m.\u001b[39m_backward_pre_hooks \u001b[38;5;129;01mor\u001b[39;00m \u001b[38;5;28mself\u001b[39m\u001b[38;5;241m.\u001b[39m_forward_hooks \u001b[38;5;129;01mor\u001b[39;00m \u001b[38;5;28mself\u001b[39m\u001b[38;5;241m.\u001b[39m_forward_pre_hooks\n\u001b[0;32m   1499\u001b[0m         \u001b[38;5;129;01mor\u001b[39;00m _global_backward_pre_hooks \u001b[38;5;129;01mor\u001b[39;00m _global_backward_hooks\n\u001b[0;32m   1500\u001b[0m         \u001b[38;5;129;01mor\u001b[39;00m _global_forward_hooks \u001b[38;5;129;01mor\u001b[39;00m _global_forward_pre_hooks):\n\u001b[1;32m-> 1501\u001b[0m     \u001b[38;5;28;01mreturn\u001b[39;00m forward_call(\u001b[38;5;241m*\u001b[39margs, \u001b[38;5;241m*\u001b[39m\u001b[38;5;241m*\u001b[39mkwargs)\n\u001b[0;32m   1502\u001b[0m \u001b[38;5;66;03m# Do not call functions when jit is used\u001b[39;00m\n\u001b[0;32m   1503\u001b[0m full_backward_hooks, non_full_backward_hooks \u001b[38;5;241m=\u001b[39m [], []\n",
      "File \u001b[1;32mC:\\ProgramData\\Anaconda3\\lib\\site-packages\\torch_geometric\\nn\\conv\\sage_conv.py:130\u001b[0m, in \u001b[0;36mSAGEConv.forward\u001b[1;34m(self, x, edge_index, size)\u001b[0m\n\u001b[0;32m    127\u001b[0m     x \u001b[38;5;241m=\u001b[39m (\u001b[38;5;28mself\u001b[39m\u001b[38;5;241m.\u001b[39mlin(x[\u001b[38;5;241m0\u001b[39m])\u001b[38;5;241m.\u001b[39mrelu(), x[\u001b[38;5;241m1\u001b[39m])\n\u001b[0;32m    129\u001b[0m \u001b[38;5;66;03m# propagate_type: (x: OptPairTensor)\u001b[39;00m\n\u001b[1;32m--> 130\u001b[0m out \u001b[38;5;241m=\u001b[39m \u001b[38;5;28;43mself\u001b[39;49m\u001b[38;5;241;43m.\u001b[39;49m\u001b[43mpropagate\u001b[49m\u001b[43m(\u001b[49m\u001b[43medge_index\u001b[49m\u001b[43m,\u001b[49m\u001b[43m \u001b[49m\u001b[43mx\u001b[49m\u001b[38;5;241;43m=\u001b[39;49m\u001b[43mx\u001b[49m\u001b[43m,\u001b[49m\u001b[43m \u001b[49m\u001b[43msize\u001b[49m\u001b[38;5;241;43m=\u001b[39;49m\u001b[43msize\u001b[49m\u001b[43m)\u001b[49m\n\u001b[0;32m    131\u001b[0m out \u001b[38;5;241m=\u001b[39m \u001b[38;5;28mself\u001b[39m\u001b[38;5;241m.\u001b[39mlin_l(out)\n\u001b[0;32m    133\u001b[0m x_r \u001b[38;5;241m=\u001b[39m x[\u001b[38;5;241m1\u001b[39m]\n",
      "File \u001b[1;32mC:\\ProgramData\\Anaconda3\\lib\\site-packages\\torch_geometric\\nn\\conv\\message_passing.py:455\u001b[0m, in \u001b[0;36mMessagePassing.propagate\u001b[1;34m(self, edge_index, size, **kwargs)\u001b[0m\n\u001b[0;32m    452\u001b[0m     \u001b[38;5;28;01mfor\u001b[39;00m arg \u001b[38;5;129;01min\u001b[39;00m decomp_args:\n\u001b[0;32m    453\u001b[0m         kwargs[arg] \u001b[38;5;241m=\u001b[39m decomp_kwargs[arg][i]\n\u001b[1;32m--> 455\u001b[0m coll_dict \u001b[38;5;241m=\u001b[39m \u001b[38;5;28;43mself\u001b[39;49m\u001b[38;5;241;43m.\u001b[39;49m\u001b[43m_collect\u001b[49m\u001b[43m(\u001b[49m\u001b[38;5;28;43mself\u001b[39;49m\u001b[38;5;241;43m.\u001b[39;49m\u001b[43m_user_args\u001b[49m\u001b[43m,\u001b[49m\u001b[43m \u001b[49m\u001b[43medge_index\u001b[49m\u001b[43m,\u001b[49m\u001b[43m \u001b[49m\u001b[43msize\u001b[49m\u001b[43m,\u001b[49m\n\u001b[0;32m    456\u001b[0m \u001b[43m                          \u001b[49m\u001b[43mkwargs\u001b[49m\u001b[43m)\u001b[49m\n\u001b[0;32m    458\u001b[0m msg_kwargs \u001b[38;5;241m=\u001b[39m \u001b[38;5;28mself\u001b[39m\u001b[38;5;241m.\u001b[39minspector\u001b[38;5;241m.\u001b[39mdistribute(\u001b[38;5;124m'\u001b[39m\u001b[38;5;124mmessage\u001b[39m\u001b[38;5;124m'\u001b[39m, coll_dict)\n\u001b[0;32m    459\u001b[0m \u001b[38;5;28;01mfor\u001b[39;00m hook \u001b[38;5;129;01min\u001b[39;00m \u001b[38;5;28mself\u001b[39m\u001b[38;5;241m.\u001b[39m_message_forward_pre_hooks\u001b[38;5;241m.\u001b[39mvalues():\n",
      "File \u001b[1;32mC:\\ProgramData\\Anaconda3\\lib\\site-packages\\torch_geometric\\nn\\conv\\message_passing.py:329\u001b[0m, in \u001b[0;36mMessagePassing._collect\u001b[1;34m(self, args, edge_index, size, kwargs)\u001b[0m\n\u001b[0;32m    327\u001b[0m         \u001b[38;5;28;01mif\u001b[39;00m \u001b[38;5;28misinstance\u001b[39m(data, Tensor):\n\u001b[0;32m    328\u001b[0m             \u001b[38;5;28mself\u001b[39m\u001b[38;5;241m.\u001b[39m_set_size(size, dim, data)\n\u001b[1;32m--> 329\u001b[0m             data \u001b[38;5;241m=\u001b[39m \u001b[38;5;28;43mself\u001b[39;49m\u001b[38;5;241;43m.\u001b[39;49m\u001b[43m_lift\u001b[49m\u001b[43m(\u001b[49m\u001b[43mdata\u001b[49m\u001b[43m,\u001b[49m\u001b[43m \u001b[49m\u001b[43medge_index\u001b[49m\u001b[43m,\u001b[49m\u001b[43m \u001b[49m\u001b[43mdim\u001b[49m\u001b[43m)\u001b[49m\n\u001b[0;32m    331\u001b[0m         out[arg] \u001b[38;5;241m=\u001b[39m data\n\u001b[0;32m    333\u001b[0m \u001b[38;5;28;01mif\u001b[39;00m is_torch_sparse_tensor(edge_index):\n",
      "File \u001b[1;32mC:\\ProgramData\\Anaconda3\\lib\\site-packages\\torch_geometric\\nn\\conv\\message_passing.py:269\u001b[0m, in \u001b[0;36mMessagePassing._lift\u001b[1;34m(self, src, edge_index, dim)\u001b[0m\n\u001b[0;32m    267\u001b[0m \u001b[38;5;28;01mexcept\u001b[39;00m (\u001b[38;5;167;01mIndexError\u001b[39;00m, \u001b[38;5;167;01mRuntimeError\u001b[39;00m) \u001b[38;5;28;01mas\u001b[39;00m e:\n\u001b[0;32m    268\u001b[0m     \u001b[38;5;28;01mif\u001b[39;00m index\u001b[38;5;241m.\u001b[39mmin() \u001b[38;5;241m<\u001b[39m \u001b[38;5;241m0\u001b[39m \u001b[38;5;129;01mor\u001b[39;00m index\u001b[38;5;241m.\u001b[39mmax() \u001b[38;5;241m>\u001b[39m\u001b[38;5;241m=\u001b[39m src\u001b[38;5;241m.\u001b[39msize(\u001b[38;5;28mself\u001b[39m\u001b[38;5;241m.\u001b[39mnode_dim):\n\u001b[1;32m--> 269\u001b[0m         \u001b[38;5;28;01mraise\u001b[39;00m \u001b[38;5;167;01mIndexError\u001b[39;00m(\n\u001b[0;32m    270\u001b[0m             \u001b[38;5;124mf\u001b[39m\u001b[38;5;124m\"\u001b[39m\u001b[38;5;124mEncountered an index error. Please ensure that all \u001b[39m\u001b[38;5;124m\"\u001b[39m\n\u001b[0;32m    271\u001b[0m             \u001b[38;5;124mf\u001b[39m\u001b[38;5;124m\"\u001b[39m\u001b[38;5;124mindices in \u001b[39m\u001b[38;5;124m'\u001b[39m\u001b[38;5;124medge_index\u001b[39m\u001b[38;5;124m'\u001b[39m\u001b[38;5;124m point to valid indices in \u001b[39m\u001b[38;5;124m\"\u001b[39m\n\u001b[0;32m    272\u001b[0m             \u001b[38;5;124mf\u001b[39m\u001b[38;5;124m\"\u001b[39m\u001b[38;5;124mthe interval [0, \u001b[39m\u001b[38;5;132;01m{\u001b[39;00msrc\u001b[38;5;241m.\u001b[39msize(\u001b[38;5;28mself\u001b[39m\u001b[38;5;241m.\u001b[39mnode_dim)\u001b[38;5;250m \u001b[39m\u001b[38;5;241m-\u001b[39m\u001b[38;5;250m \u001b[39m\u001b[38;5;241m1\u001b[39m\u001b[38;5;132;01m}\u001b[39;00m\u001b[38;5;124m] \u001b[39m\u001b[38;5;124m\"\u001b[39m\n\u001b[0;32m    273\u001b[0m             \u001b[38;5;124mf\u001b[39m\u001b[38;5;124m\"\u001b[39m\u001b[38;5;124m(got interval \u001b[39m\u001b[38;5;124m\"\u001b[39m\n\u001b[0;32m    274\u001b[0m             \u001b[38;5;124mf\u001b[39m\u001b[38;5;124m\"\u001b[39m\u001b[38;5;124m[\u001b[39m\u001b[38;5;132;01m{\u001b[39;00m\u001b[38;5;28mint\u001b[39m(index\u001b[38;5;241m.\u001b[39mmin())\u001b[38;5;132;01m}\u001b[39;00m\u001b[38;5;124m, \u001b[39m\u001b[38;5;132;01m{\u001b[39;00m\u001b[38;5;28mint\u001b[39m(index\u001b[38;5;241m.\u001b[39mmax())\u001b[38;5;132;01m}\u001b[39;00m\u001b[38;5;124m])\u001b[39m\u001b[38;5;124m\"\u001b[39m)\n\u001b[0;32m    275\u001b[0m     \u001b[38;5;28;01melse\u001b[39;00m:\n\u001b[0;32m    276\u001b[0m         \u001b[38;5;28;01mraise\u001b[39;00m e\n",
      "\u001b[1;31mIndexError\u001b[0m: Encountered an index error. Please ensure that all indices in 'edge_index' point to valid indices in the interval [0, 204917] (got interval [-2147483648, 95692])"
     ]
    }
   ],
   "source": [
    "import torch.nn.functional as F\n",
    "\n",
    "optimizer = torch.optim.Adam(model.parameters(), lr=0.01)\n",
    "\n",
    "def train():\n",
    "    model.train()\n",
    "    optimizer.zero_grad()\n",
    "    pred = model(train_data)\n",
    "    ground_truth = train_data[customer, buy, good].edge_label\n",
    "    loss = F.binary_cross_entropy_with_logits(pred, ground_truth)\n",
    "    loss.backward()\n",
    "    optimizer.step()\n",
    "    return float(loss)\n",
    "\n",
    "@torch.no_grad()\n",
    "def test(data):\n",
    "    data = data.to(device)\n",
    "    model.eval()\n",
    "    pred = model(test_data)\n",
    "    pred = pred.clamp(min=0, max=5)\n",
    "    target = data[customer, good].edge_label.float()\n",
    "    rmse = F.mse_loss(pred, target).sqrt()\n",
    "    return float(rmse)\n",
    "\n",
    "\n",
    "for epoch in range(1, 100):\n",
    "    train_data = train_data.to(device)\n",
    "    loss = train()\n",
    "    train_rmse = test(train_data)\n",
    "    val_rmse = test(val_data)\n",
    "    print(f'Epoch: {epoch:03d}, Loss: {loss:.4f}, Train: {train_rmse:.4f}, '\n",
    "          f'Val: {val_rmse:.4f}')\n"
   ]
  },
  {
   "cell_type": "code",
   "execution_count": 1,
   "id": "fbee71fa",
   "metadata": {},
   "outputs": [
    {
     "name": "stdout",
     "output_type": "stream",
     "text": [
      "For save in git\n"
     ]
    }
   ],
   "source": [
    "print('For save in git')"
   ]
  },
  {
   "cell_type": "code",
   "execution_count": null,
   "id": "791a31b0",
   "metadata": {},
   "outputs": [],
   "source": []
  }
 ],
 "metadata": {
  "kernelspec": {
   "display_name": "Python 3 (ipykernel)",
   "language": "python",
   "name": "python3"
  },
  "language_info": {
   "codemirror_mode": {
    "name": "ipython",
    "version": 3
   },
   "file_extension": ".py",
   "mimetype": "text/x-python",
   "name": "python",
   "nbconvert_exporter": "python",
   "pygments_lexer": "ipython3",
   "version": "3.9.16"
  }
 },
 "nbformat": 4,
 "nbformat_minor": 5
}
