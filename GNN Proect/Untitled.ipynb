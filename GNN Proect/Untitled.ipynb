{
 "cells": [
  {
   "cell_type": "code",
   "execution_count": 4,
   "id": "3a3bbe50",
   "metadata": {},
   "outputs": [],
   "source": [
    "import torch\n",
    "import pandas as pd\n",
    "from torch_geometric.data import download_url, extract_zip\n",
    "from sentence_transformers import SentenceTransformer"
   ]
  },
  {
   "cell_type": "code",
   "execution_count": 16,
   "id": "da97aeea",
   "metadata": {},
   "outputs": [
    {
     "name": "stderr",
     "output_type": "stream",
     "text": [
      "Using existing file ml-latest-small.zip\n",
      "Extracting .\\ml-latest-small.zip\n"
     ]
    }
   ],
   "source": [
    "dataset_name = 'ml-latest-small'\n",
    "\n",
    "url = f'https://files.grouplens.org/datasets/movielens/{dataset_name}.zip'\n",
    "extract_zip(download_url(url, '.'), '.')\n",
    "\n",
    "movies_path = f'./{dataset_name}/movies.csv'\n",
    "ratings_path = f'./{dataset_name}/ratings.csv'"
   ]
  },
  {
   "cell_type": "code",
   "execution_count": 17,
   "id": "5c80ec20",
   "metadata": {},
   "outputs": [],
   "source": [
    "movies_df = pd.read_csv(movies_path)\n",
    "ratings_df = pd.read_csv(ratings_path)"
   ]
  },
  {
   "cell_type": "code",
   "execution_count": 22,
   "id": "bb60f23b",
   "metadata": {
    "scrolled": true
   },
   "outputs": [
    {
     "data": {
      "text/plain": [
       "array([[0, 0, 1, ..., 0, 0, 0],\n",
       "       [0, 0, 1, ..., 0, 0, 0],\n",
       "       [0, 0, 0, ..., 0, 0, 0],\n",
       "       ...,\n",
       "       [0, 0, 0, ..., 0, 0, 0],\n",
       "       [0, 1, 0, ..., 0, 0, 0],\n",
       "       [0, 0, 0, ..., 0, 0, 0]], dtype=int64)"
      ]
     },
     "execution_count": 22,
     "metadata": {},
     "output_type": "execute_result"
    }
   ],
   "source": [
    "genres = movies_df['genres'].str.get_dummies('|').values\n",
    "genres"
   ]
  },
  {
   "cell_type": "code",
   "execution_count": null,
   "id": "35d5e3fc",
   "metadata": {},
   "outputs": [],
   "source": [
    "genres = torch.from_numpy(genres).to(torch.float)\n",
    "genres"
   ]
  },
  {
   "cell_type": "code",
   "execution_count": 9,
   "id": "c8b94ae7",
   "metadata": {},
   "outputs": [
    {
     "data": {
      "application/vnd.jupyter.widget-view+json": {
       "model_id": "bd37b11474b54957bed2414f239d4248",
       "version_major": 2,
       "version_minor": 0
      },
      "text/plain": [
       "Batches:   0%|          | 0/305 [00:00<?, ?it/s]"
      ]
     },
     "metadata": {},
     "output_type": "display_data"
    }
   ],
   "source": [
    "model = SentenceTransformer('all-MiniLM-L6-v2')\n",
    "with torch.no_grad():\n",
    "    titles = model.encode(movies_df['title'].tolist(), convert_to_tensor=True, show_progress_bar=True)\n",
    "    titles = titles.cpu()"
   ]
  },
  {
   "cell_type": "code",
   "execution_count": 10,
   "id": "2f045be6",
   "metadata": {},
   "outputs": [
    {
     "data": {
      "text/plain": [
       "tensor([[-0.0828,  0.0530,  0.0536,  ...,  0.0226,  0.0538,  0.1030],\n",
       "        [-0.1053,  0.1508, -0.0264,  ...,  0.0106, -0.0726,  0.0086],\n",
       "        [-0.0988,  0.0176, -0.0527,  ..., -0.0120,  0.0303,  0.0004],\n",
       "        ...,\n",
       "        [-0.1115,  0.0310, -0.0177,  ...,  0.0147,  0.0299,  0.0200],\n",
       "        [ 0.0366,  0.0137,  0.0315,  ..., -0.0516, -0.0143,  0.1012],\n",
       "        [-0.0500, -0.0141, -0.0031,  ...,  0.0320,  0.0546, -0.0271]])"
      ]
     },
     "execution_count": 10,
     "metadata": {},
     "output_type": "execute_result"
    }
   ],
   "source": [
    "titles"
   ]
  },
  {
   "cell_type": "code",
   "execution_count": 14,
   "id": "644bbb7a",
   "metadata": {},
   "outputs": [],
   "source": [
    "movie_features = torch.cat([genres, titles], dim=-1)\n",
    "\n",
    "# We don't have user features, which is why we use an identity matrix\n",
    "user_features = torch.eye(len(ratings_df['userId'].unique()))"
   ]
  },
  {
   "cell_type": "code",
   "execution_count": 15,
   "id": "1cb2cf4e",
   "metadata": {},
   "outputs": [
    {
     "data": {
      "text/plain": [
       "(tensor([[1., 0., 0.,  ..., 0., 0., 0.],\n",
       "         [0., 1., 0.,  ..., 0., 0., 0.],\n",
       "         [0., 0., 1.,  ..., 0., 0., 0.],\n",
       "         ...,\n",
       "         [0., 0., 0.,  ..., 1., 0., 0.],\n",
       "         [0., 0., 0.,  ..., 0., 1., 0.],\n",
       "         [0., 0., 0.,  ..., 0., 0., 1.]]),\n",
       " tensor([[ 0.0000e+00,  0.0000e+00,  1.0000e+00,  ...,  2.2615e-02,\n",
       "           5.3814e-02,  1.0297e-01],\n",
       "         [ 0.0000e+00,  0.0000e+00,  1.0000e+00,  ...,  1.0561e-02,\n",
       "          -7.2631e-02,  8.6105e-03],\n",
       "         [ 0.0000e+00,  0.0000e+00,  0.0000e+00,  ..., -1.2006e-02,\n",
       "           3.0255e-02,  4.1655e-04],\n",
       "         ...,\n",
       "         [ 0.0000e+00,  0.0000e+00,  0.0000e+00,  ...,  1.4684e-02,\n",
       "           2.9905e-02,  2.0007e-02],\n",
       "         [ 0.0000e+00,  1.0000e+00,  0.0000e+00,  ..., -5.1593e-02,\n",
       "          -1.4267e-02,  1.0123e-01],\n",
       "         [ 0.0000e+00,  0.0000e+00,  0.0000e+00,  ...,  3.1982e-02,\n",
       "           5.4629e-02, -2.7146e-02]]))"
      ]
     },
     "execution_count": 15,
     "metadata": {},
     "output_type": "execute_result"
    }
   ],
   "source": [
    "user_features,movie_features"
   ]
  },
  {
   "cell_type": "code",
   "execution_count": null,
   "id": "0582af11",
   "metadata": {},
   "outputs": [],
   "source": [
    "s = pd.Series(list('abca'))"
   ]
  }
 ],
 "metadata": {
  "kernelspec": {
   "display_name": "Python 3 (ipykernel)",
   "language": "python",
   "name": "python3"
  },
  "language_info": {
   "codemirror_mode": {
    "name": "ipython",
    "version": 3
   },
   "file_extension": ".py",
   "mimetype": "text/x-python",
   "name": "python",
   "nbconvert_exporter": "python",
   "pygments_lexer": "ipython3",
   "version": "3.9.16"
  }
 },
 "nbformat": 4,
 "nbformat_minor": 5
}
